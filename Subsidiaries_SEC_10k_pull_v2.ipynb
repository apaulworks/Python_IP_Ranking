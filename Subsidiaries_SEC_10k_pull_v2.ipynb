{
 "cells": [
  {
   "cell_type": "code",
   "execution_count": 1,
   "metadata": {
    "scrolled": false
   },
   "outputs": [
    {
     "name": "stdout",
     "output_type": "stream",
     "text": [
      "Running patent finder...\n",
      "Column names are:  Subsidiary Name Location inc.\n",
      "Processed 15 lines.\n"
     ]
    },
    {
     "name": "stderr",
     "output_type": "stream",
     "text": [
      "\r",
      "  0%|                                                                                           | 0/14 [00:00<?, ?it/s]"
     ]
    },
    {
     "name": "stdout",
     "output_type": "stream",
     "text": [
      "049059-0575\n",
      "047971-0357\n",
      "047972-0960\n",
      "047971-0324\n",
      "047972-0902\n",
      "048305-0181\n",
      "049062-0202\n",
      "048305-0129\n",
      "048066-0788\n",
      "049368-0445\n",
      "047971-0357\n",
      "047972-0960\n",
      "048305-0181\n",
      "048308-0520\n",
      "049062-0202\n",
      "049062-0247\n"
     ]
    },
    {
     "name": "stderr",
     "output_type": "stream",
     "text": [
      "\r",
      "  7%|█████▉                                                                             | 1/14 [00:05<01:11,  5.50s/it]"
     ]
    },
    {
     "name": "stdout",
     "output_type": "stream",
     "text": [
      "043728-0801\n",
      "049301-0499\n",
      "042755-0925\n",
      "042725-0204\n",
      "042027-0018\n",
      "045997-0698\n",
      "043890-0667\n",
      "039184-0622\n",
      "049208-0237\n",
      "042268-0057\n",
      "039874-0754\n",
      "039802-0727\n",
      "039803-0552\n",
      "039811-0867\n",
      "039812-0309\n",
      "039676-0381\n"
     ]
    },
    {
     "name": "stderr",
     "output_type": "stream",
     "text": [
      "\r",
      " 14%|███████████▊                                                                       | 2/14 [00:23<01:50,  9.22s/it]"
     ]
    },
    {
     "name": "stdout",
     "output_type": "stream",
     "text": [
      "043728-0801\n",
      "049301-0499\n",
      "042755-0925\n",
      "042725-0204\n",
      "042027-0018\n",
      "045997-0698\n",
      "043890-0667\n",
      "039184-0622\n",
      "049208-0237\n",
      "042268-0057\n",
      "039874-0754\n",
      "039802-0727\n",
      "039803-0552\n",
      "039811-0867\n",
      "039812-0309\n",
      "039676-0381\n"
     ]
    },
    {
     "name": "stderr",
     "output_type": "stream",
     "text": [
      "\r",
      " 21%|█████████████████▊                                                                 | 3/14 [00:27<01:23,  7.56s/it]"
     ]
    },
    {
     "name": "stdout",
     "output_type": "stream",
     "text": [
      "043728-0801\n",
      "049301-0499\n",
      "042755-0925\n",
      "042725-0204\n",
      "042027-0018\n",
      "045997-0698\n",
      "043890-0667\n",
      "039184-0622\n",
      "049208-0237\n",
      "042268-0057\n",
      "039874-0754\n",
      "039802-0727\n",
      "039803-0552\n",
      "039811-0867\n",
      "039812-0309\n",
      "039676-0381\n"
     ]
    },
    {
     "name": "stderr",
     "output_type": "stream",
     "text": [
      "\r",
      " 29%|███████████████████████▋                                                           | 4/14 [00:30<01:03,  6.37s/it]"
     ]
    },
    {
     "name": "stdout",
     "output_type": "stream",
     "text": [
      "049309-0188\n",
      "050210-0840\n",
      "050475-0037\n",
      "047382-0859\n",
      "047383-0035\n",
      "045577-0544\n",
      "044117-0437\n",
      "040168-0920\n",
      "049309-0191\n",
      "045577-0558\n",
      "050474-0712\n",
      "040168-0817\n",
      "049362-0955\n",
      "036381-0517\n",
      "039784-0043\n",
      "043025-0906\n"
     ]
    },
    {
     "name": "stderr",
     "output_type": "stream",
     "text": [
      "\r",
      " 36%|█████████████████████████████▋                                                     | 5/14 [00:34<00:49,  5.50s/it]"
     ]
    },
    {
     "name": "stdout",
     "output_type": "stream",
     "text": [
      "047971-0357\n",
      "047972-0960\n",
      "049062-0202\n",
      "048305-0129\n",
      "048822-0155\n",
      "048066-0788\n",
      "049368-0445\n",
      "048308-0520\n",
      "049062-0247\n",
      "048822-0197\n"
     ]
    },
    {
     "name": "stderr",
     "output_type": "stream",
     "text": [
      "\r",
      " 43%|███████████████████████████████████▌                                               | 6/14 [00:44<00:56,  7.05s/it]"
     ]
    },
    {
     "name": "stdout",
     "output_type": "stream",
     "text": [
      "049059-0575\n",
      "047971-0324\n",
      "047972-0902\n",
      "048306-0430\n",
      "049062-0116\n",
      "044544-0246\n",
      "045395-0858\n",
      "044219-0318\n",
      "047971-0357\n",
      "047972-0960\n",
      "048305-0181\n",
      "049062-0202\n",
      "048305-0129\n",
      "045011-0890\n",
      "045798-0604\n",
      "049301-0499\n"
     ]
    },
    {
     "name": "stderr",
     "output_type": "stream",
     "text": [
      "\r",
      " 50%|█████████████████████████████████████████▌                                         | 7/14 [00:48<00:41,  5.98s/it]"
     ]
    },
    {
     "name": "stdout",
     "output_type": "stream",
     "text": [
      "049059-0575\n",
      "047971-0324\n",
      "047972-0902\n",
      "048306-0430\n",
      "049062-0116\n",
      "044544-0246\n",
      "045395-0858\n",
      "044219-0318\n",
      "047971-0357\n",
      "047972-0960\n",
      "048305-0181\n",
      "049062-0202\n",
      "048305-0129\n",
      "045011-0890\n",
      "045798-0604\n",
      "049301-0499\n"
     ]
    },
    {
     "name": "stderr",
     "output_type": "stream",
     "text": [
      "\r",
      " 57%|███████████████████████████████████████████████▍                                   | 8/14 [00:51<00:31,  5.24s/it]"
     ]
    },
    {
     "name": "stdout",
     "output_type": "stream",
     "text": [
      "049059-0575\n",
      "047971-0324\n",
      "047972-0902\n",
      "048306-0430\n",
      "049062-0116\n",
      "044544-0246\n",
      "045395-0858\n",
      "044219-0318\n",
      "047971-0357\n",
      "047972-0960\n",
      "048305-0181\n",
      "049062-0202\n",
      "048305-0129\n",
      "045011-0890\n",
      "045798-0604\n",
      "049301-0499\n"
     ]
    },
    {
     "name": "stderr",
     "output_type": "stream",
     "text": [
      "\r",
      " 64%|█████████████████████████████████████████████████████▎                             | 9/14 [00:55<00:23,  4.70s/it]"
     ]
    },
    {
     "name": "stdout",
     "output_type": "stream",
     "text": [
      "031335-0339\n",
      "042076-0071\n",
      "032838-0044\n",
      "042075-0893\n",
      "030676-0954\n",
      "039186-0090\n",
      "039186-0182\n",
      "032929-0146\n",
      "No Patent Properties found for:  Bikam Pharmaceuticals INC  at URL  2\n"
     ]
    },
    {
     "name": "stderr",
     "output_type": "stream",
     "text": [
      "\r",
      " 71%|██████████████████████████████████████████████████████████▌                       | 10/14 [00:58<00:16,  4.20s/it]"
     ]
    },
    {
     "name": "stdout",
     "output_type": "stream",
     "text": [
      "048727-0527\n",
      "048272-0535\n",
      "048940-0196\n",
      "046651-0427\n",
      "046143-0224\n",
      "046664-0888\n",
      "045902-0991\n",
      "045769-0232\n",
      "No Patent Properties found for:  Agios Pharmaceuticals, INC  at URL  2\n"
     ]
    },
    {
     "name": "stderr",
     "output_type": "stream",
     "text": [
      "\r",
      " 79%|████████████████████████████████████████████████████████████████▍                 | 11/14 [01:01<00:11,  3.88s/it]"
     ]
    },
    {
     "name": "stdout",
     "output_type": "stream",
     "text": [
      "050678-0833\n",
      "050679-0081\n",
      "050678-0915\n",
      "049059-0491\n",
      "050106-0607\n",
      "049059-0323\n",
      "050106-0494\n",
      "049059-0449\n",
      "050679-0151\n",
      "049059-0846\n",
      "050106-0548\n",
      "048003-0343\n",
      "047486-0675\n",
      "049494-0315\n",
      "050076-0001\n",
      "043277-0694\n"
     ]
    },
    {
     "name": "stderr",
     "output_type": "stream",
     "text": [
      "\r",
      " 86%|██████████████████████████████████████████████████████████████████████▎           | 12/14 [01:05<00:07,  3.83s/it]"
     ]
    },
    {
     "name": "stdout",
     "output_type": "stream",
     "text": [
      "050679-0151\n",
      "049059-0846\n",
      "050106-0548\n",
      "050106-0251\n",
      "048003-0343\n",
      "050076-0814\n",
      "048039-0216\n",
      "050076-0001\n",
      "No Patent Properties found for:  Nimbus Lakshmi, INC  at URL  2\n"
     ]
    },
    {
     "name": "stderr",
     "output_type": "stream",
     "text": [
      "\r",
      " 93%|████████████████████████████████████████████████████████████████████████████▏     | 13/14 [01:08<00:03,  3.59s/it]"
     ]
    },
    {
     "name": "stdout",
     "output_type": "stream",
     "text": [
      "049567-0552\n",
      "047628-0816\n",
      "049567-0250\n",
      "049743-0879\n",
      "049743-0906\n",
      "048999-0206\n",
      "047628-0717\n",
      "048821-0826\n",
      "048259-0004\n",
      "049569-0680\n",
      "049746-0129\n",
      "039490-0648\n",
      "039549-0550\n",
      "039360-0232\n",
      "049510-0756\n",
      "048825-0801\n"
     ]
    },
    {
     "name": "stderr",
     "output_type": "stream",
     "text": [
      "100%|██████████████████████████████████████████████████████████████████████████████████| 14/14 [01:11<00:00,  3.57s/it]\n"
     ]
    }
   ],
   "source": [
    "from bs4 import BeautifulSoup\n",
    "from bs4 import element\n",
    "import urllib\n",
    "import re\n",
    "import ssl\n",
    "#from selenium import webdriver\n",
    "import pandas as pd\n",
    "import json\n",
    "import csv\n",
    "from graphics import *\n",
    "import time\n",
    "from tqdm import tqdm\n",
    "\n",
    "\n",
    "def get_soup(url):\n",
    "    #url = 'https://assignment-api.uspto.gov/patent/advancedSearch?ownerName=Numerate%2C%20Inc';\n",
    "    gcontext = ssl.SSLContext()\n",
    "    html_page = urllib.request.urlopen(url, context=gcontext)\n",
    "    soup = BeautifulSoup(html_page) #'lxml-xml'\n",
    "    #print(soup.prettify())\n",
    "    return soup;\n",
    "\n",
    "\n",
    "def row_item(soup):\n",
    "    \n",
    "    if soup('str', attrs={'name':'displayId'}) != []:\n",
    "        for s in soup('str', attrs={'name':'displayId'}):\n",
    "            print(s.string)\n",
    "\n",
    "        pat = s.find_parent('doc');\n",
    "        pats = pat.find_previous_siblings();\n",
    "        pats.insert(0,pat)\n",
    "        return pats;\n",
    "    else:\n",
    "        return None;\n",
    "    \n",
    "\n",
    "def str_collect(apat, name, tag, sub_tag=None):   \n",
    "    lstr = []\n",
    "    ro_arr = apat(tag, attrs={'name':name})\n",
    "    for ustr in ro_arr:\n",
    "        if sub_tag == None:\n",
    "            lstr.append(ustr.string)\n",
    "        else:\n",
    "            tag_str = ustr(sub_tag);\n",
    "            for tag in tag_str:\n",
    "                lstr.append(tag.text)\n",
    "    return lstr;\n",
    "\n",
    "\n",
    "def parent_doc(soup):\n",
    "    \n",
    "    if soup('str', attrs={'name':'displayId'}) != []:\n",
    "        for s in soup('str', attrs={'name':'displayId'}):\n",
    "            if not quiet: \n",
    "                print(s.string)\n",
    "            else:\n",
    "                pass\n",
    "\n",
    "        pat = s.find_parent('doc');            # find the parent using the last s\n",
    "        pats = pat.find_previous_siblings();\n",
    "        pats.insert(0,pat)                     # add last s to the beginning; why?\n",
    "        return pats;\n",
    "    else:\n",
    "        return None;\n",
    "    \n",
    "\n",
    "def get_soup2(url):\n",
    "    gcontext = ssl.SSLContext()\n",
    "    html_page = urllib.request.urlopen(url, context=gcontext)\n",
    "    soup = BeautifulSoup(html_page, 'lxml-xml') #'lxml-xml'\n",
    "    #print(soup.prettify())\n",
    "    return soup;\n",
    "\n",
    "parent_company = 'pfizer';     #editable field; name should match the .csv file\n",
    "\n",
    "find_subsids = True;     # True if company public\n",
    "find_patents = True;\n",
    "\n",
    "save = True; quiet = False;   #if save is true then save patents; if quiet is true, don't output during run\n",
    "\n",
    "if find_subsids:\n",
    "    print('Running subsidiary finder...')\n",
    "\n",
    "    myurl = 'https://www.sec.gov/Archives/edgar/data/78003/000007800319000015/pfe-exhibit21x12312018x10k.htm'\n",
    "    #https://www.sec.gov/Archives/edgar/data/200406/000020040619000009/ex21-subsidiariesxform10xk.htm\n",
    "    soup = get_soup(myurl);\n",
    "    #print(soup.prettify())\n",
    "\n",
    "    ## Find the subsidiaries ##    \n",
    "\n",
    "    #print(soup.find('tr'))\n",
    "    start_str = 'Company Name';\n",
    "    count_a = 0\n",
    "    count_b = 0\n",
    "    start_row = element.Tag\n",
    "    tr_sections = soup.find_all('tr');\n",
    "\n",
    "    for row in tr_sections: \n",
    "        if row('td')[0].text == 'Company Name': #row.td.text\n",
    "            start_row = row;\n",
    "            start_index = count_b;\n",
    "            count_a += 0;\n",
    "        else: \n",
    "            count_a += 1;\n",
    "            count_b += 1;\n",
    "\n",
    "    subsids_name = [];\n",
    "    subsids_est = [];\n",
    "    #subsids_name.append(start_row('td')[0].text);\n",
    "    #subsids_est.append(start_row('td')[1].text);\n",
    "\n",
    "    for i in range(start_index+1, len(tr_sections)):\n",
    "        if ((tr_sections[i]('td')[0].text != None) and (tr_sections[i]('td')[0].text != '')):\n",
    "            #print(tr_sections[i]('td')[0].text, ' *type* ', type(tr_sections[i]('td')[0].text))\n",
    "            subsids_name.append(tr_sections[i]('td')[0].text);\n",
    "            subsids_est.append(tr_sections[i]('td')[1].text);\n",
    "\n",
    "    s1 = pd.Series(subsids_name);\n",
    "    s2 = pd.Series(subsids_est);\n",
    "\n",
    "    df = pd.DataFrame()\n",
    "    df['Subsidiary Name'] = s1;\n",
    "    df['Location inc.'] = s2; # here specifing the location of the company's incorporation\n",
    "\n",
    "\n",
    "    s1\n",
    "    file_str = \"C:/Users/APL29/Documents/CODE/Subsidiaries/\" + parent_company +\".csv\";\n",
    "    df.to_csv(file_str)\n",
    "\n",
    "if find_patents:\n",
    "    \n",
    "    #save = False; quiet = False;       # set run parameters\n",
    "    print('Running patent finder...')\n",
    "    ## Run Code Start ##\n",
    "    # import subsidiary names and locations\n",
    "    \n",
    "    # path to subsidiary csv file\n",
    "    #parent_company = 'schrodinger';\n",
    "    file_str = \"C:/Users/APL29/Documents/CODE/Subsidiaries/\" + parent_company +\".csv\";\n",
    "\n",
    "    # simply count the subsidiaries; sanity check\n",
    "    subsids_comp = [];\n",
    "    with open(file_str) as csv_file:\n",
    "        csv_reader = csv.reader(csv_file, delimiter=',')\n",
    "        line_count = 0;\n",
    "        for row in csv_reader:\n",
    "            if line_count == 0:\n",
    "                print(f'Column names are: {\" \".join(row)}')\n",
    "                line_count += 1\n",
    "            else:\n",
    "                #print(f'\\t{row[0]} works in the {row[1]} department, and was born in {row[2]}.')\n",
    "                subsids_comp.append(row[1]);\n",
    "                line_count += 1\n",
    "        print(f'Processed {line_count} lines.')\n",
    "\n",
    "    ###  Start of Patent Search ###  # given that subsidiaries have been loaded from csv file\n",
    "    #save = True; quiet = True;       # set run parameters\n",
    "    companies = subsids_comp;\n",
    "    df = pd.DataFrame()\n",
    "\n",
    "    # main loop for searching all applications/patents for a given \n",
    "    for c in tqdm(companies):        # Note: tqdm calls the status indicator library \n",
    "        #company_name = 'Numerate';\n",
    "        company_name = urllib.parse.quote(c);    # prepares company name string which has spaces into URL format (i.e. %)\n",
    "        urls = ['https://assignment-api.uspto.gov/patent/advancedSearch?ownerName=' + company_name,'https://assignment-api.uspto.gov/patent/advancedSearch?priorOwnerName=' + company_name];\n",
    "        parser = 'lxml-xml';\n",
    "\n",
    "        count = 0;\n",
    "        for myurl in urls:\n",
    "            #print(type(myurl))\n",
    "            if not quiet: time.sleep(1) #time.sleep(delay)  \n",
    "            soup = get_soup2(myurl)     # scrape api-uspto\n",
    "            pats = parent_doc(soup)     # collect all patent handles\n",
    "\n",
    "            with open('assignment_tags_oi.json', 'r') as fp:\n",
    "                atags = json.load(fp)   # load the desired tags to filter from full patent scrape\n",
    "\n",
    "            mains = {};\n",
    "            patdocs = {};\n",
    "            tmp = [];\n",
    "\n",
    "            if pats != None:\n",
    "                for apat in pats:\n",
    "                    mains = {};\n",
    "                    num_apps = len(str_collect(apat, 'applNum',atags['applNum'][0],atags['applNum'][1]))\n",
    "                    for a in range(num_apps):\n",
    "                        for key in atags.keys():\n",
    "                            #print('key: ', key)\n",
    "                            if len(atags[key]) == 1:\n",
    "                                mains[key] = str_collect(apat, key,atags[key][0])[0]\n",
    "\n",
    "                            elif len(atags[key]) == 2:\n",
    "                                tmp = str_collect(apat, key, atags[key][0], atags[key][1])\n",
    "                                if len(tmp) > 1 and a <= (len(tmp)-1):\n",
    "                                    mains[key] = tmp[a];\n",
    "                                    #print('tmp[a] = ', tmp[a])\n",
    "                                else:\n",
    "                                    mains[key] = tmp[0];\n",
    "                                #mains[key] = str_collect(apat, key,atags[key][0],atags[key][1])\n",
    "                                #print(mains[key])\n",
    "                            else:\n",
    "                                print('Error with the json tags');\n",
    "                        patdocs[count] = mains;\n",
    "                        mains = {};\n",
    "                        count += 1;\n",
    "                        #patdocs.append(mains);\n",
    "                df_a = pd.DataFrame(patdocs);\n",
    "                df_a = df_a.transpose()\n",
    "                df = pd.concat([df, df_a]);    \n",
    "                #df_a = pd.DataFrame(dict([(k,pd.Series(v)) for k,v in patdocs.items() ]))\n",
    "                #df_a = df_a.transpose()\n",
    "                #df = pd.concat([df, df_a]);\n",
    "            elif not quiet:\n",
    "                print('No Patent Properties found for: ', c, ' at URL ', urls.index(myurl)+1)\n",
    "\n",
    "        if save:\n",
    "            df.to_csv(\"C:/Users/APL29/Documents/CODE/Patent_pulls/Pharma_subsidiaries/\" + parent_company +\".csv\")\n",
    " "
   ]
  },
  {
   "cell_type": "code",
   "execution_count": null,
   "metadata": {},
   "outputs": [],
   "source": []
  },
  {
   "cell_type": "code",
   "execution_count": null,
   "metadata": {
    "scrolled": true
   },
   "outputs": [],
   "source": [
    "#df = df.reset_index(drop=True)\n",
    "df"
   ]
  },
  {
   "cell_type": "code",
   "execution_count": null,
   "metadata": {},
   "outputs": [],
   "source": [
    " df.to_csv(\"C:/Users/APL29/Documents/CODE/Patent_pulls/Pharma_subsidiaries/\" + parent_company +\".csv\")"
   ]
  },
  {
   "cell_type": "code",
   "execution_count": null,
   "metadata": {},
   "outputs": [],
   "source": [
    "import time\n",
    "from tqdm import tqdm\n",
    "\n",
    "for i in tqdm(companies):\n",
    "    time.sleep(3)\n"
   ]
  },
  {
   "cell_type": "code",
   "execution_count": null,
   "metadata": {},
   "outputs": [],
   "source": [
    "mains[key] = tmp;"
   ]
  },
  {
   "cell_type": "code",
   "execution_count": null,
   "metadata": {},
   "outputs": [],
   "source": [
    "urllib.parse.quote(companies[0])"
   ]
  },
  {
   "cell_type": "code",
   "execution_count": null,
   "metadata": {},
   "outputs": [],
   "source": [
    "urls.index(myurl)\n",
    "myurl"
   ]
  },
  {
   "cell_type": "code",
   "execution_count": null,
   "metadata": {},
   "outputs": [],
   "source": [
    "from graphics import *\n",
    "\n",
    "\n",
    "def main():\n",
    "    win = GraphWin('Face', 200, 150) # give title and dimensions\n",
    "    #win.yUp() # make right side up coordinates!\n",
    "\n",
    "    head = Circle(Point(40,100), 25) # set center and radius\n",
    "    head.setFill(\"yellow\")\n",
    "    head.draw(win)\n",
    "\n",
    "    eye1 = Circle(Point(30, 105), 5)\n",
    "    eye1.setFill('blue')\n",
    "    eye1.draw(win)\n",
    "\n",
    "    eye2 = Line(Point(45, 105), Point(55, 105)) # set endpoints\n",
    "    eye2.setWidth(3)\n",
    "    eye2.draw(win)\n",
    "\n",
    "    mouth = Oval(Point(30, 90), Point(50, 85)) # set corners of bounding box\n",
    "    mouth.setFill(\"red\")\n",
    "    mouth.draw(win)\n",
    "\n",
    "    label = Text(Point(100, 120), 'A face')\n",
    "    label.draw(win)\n",
    "\n",
    "    message = Text(Point(win.getWidth()/2, 20), 'Click anywhere to quit.')\n",
    "    message.draw(win)\n",
    "    pt = Point(100, 50)\n",
    "    line = Line(pt, Point(150, 100))\n",
    "    line.draw(win)\n",
    "    win.getMouse()\n",
    "    line.move(10,40)\n",
    "    win.getMouse()\n",
    "    win.close()\n",
    "\n",
    "main()"
   ]
  },
  {
   "cell_type": "code",
   "execution_count": null,
   "metadata": {},
   "outputs": [],
   "source": [
    "from graphics import *\n",
    "import numpy as np\n",
    "\n",
    "def pol2cart(rho, phi):\n",
    "    x = rho * np.cos(phi)\n",
    "    y = rho * np.sin(phi)\n",
    "    return(x,y)\n",
    "\n",
    "r = 0; p = 0; x = 0; y = 0;\n",
    "width = 400; height = 300;\n",
    "cx = width/2; cy = height/2;\n",
    "win = GraphWin('Face', width, height) # give title and dimensions\n",
    "delay = 0.05 # seconds\n",
    "#skip = True;\n",
    "\n",
    "while r < cy:\n",
    "    p += 2*np.pi/18;\n",
    "    if p > 2*np.pi:\n",
    "        print('True')\n",
    "        p = 0;\n",
    "        r += 40;\n",
    "    pt1 = Point(cx+x, cy+y);\n",
    "    [x, y] = pol2cart(r, p)\n",
    "    pt2 = Point(cx+x, cy+y);\n",
    "    line = Line(pt1, pt2);\n",
    "    if p != 0:\n",
    "        line.draw(win)\n",
    "    time.sleep(delay)\n",
    "    if r > 10 and p != 0:\n",
    "        cptx = pt1.x+(pt2.x-pt1.x)/2\n",
    "        cpty = pt1.y+(pt2.y-pt1.y)/2\n",
    "        circ = Circle(Point(cptx,cpty), 5);\n",
    "        circ.draw(win)\n",
    "        time.sleep(delay)\n",
    "\n",
    "win.getMouse()\n",
    "win.close()\n"
   ]
  },
  {
   "cell_type": "code",
   "execution_count": null,
   "metadata": {},
   "outputs": [],
   "source": [
    "p =0; r =0;\n",
    "while True:\n",
    "    p += 2*np.pi/18\n",
    "    print(p, p-2*np.pi)\n",
    "    if p == 2*np.pi:\n",
    "        print(p)\n"
   ]
  },
  {
   "cell_type": "code",
   "execution_count": null,
   "metadata": {},
   "outputs": [],
   "source": [
    "r = 0; p = 0; x = 0; y = 0;\n",
    "width = 400; height = 300;\n",
    "cx = width/2; cy = height/2;\n",
    "win = GraphWin('Face', width, height) # give title and dimensions\n",
    "\n",
    "test_pt = line.getP1;\n",
    "cptx = pt1.x+(pt2.x-pt1.x)/2\n",
    "cpty = pt1.y+(pt2.y-pt1.y)/2\n",
    "circ = Circle(Point(cptx,cpty), 5);\n",
    "circ.draw(win)\n",
    "\n",
    "win.getMouse()\n",
    "win.close()\n",
    "#open second window and drop down to subspace window upon mouse click to view\n",
    "#circle, clicking the whitespace to activate and then close the window. \n"
   ]
  },
  {
   "cell_type": "code",
   "execution_count": null,
   "metadata": {},
   "outputs": [],
   "source": [
    "pt1.x+(pt2.x-pt1.x)/2"
   ]
  }
 ],
 "metadata": {
  "kernelspec": {
   "display_name": "Python 3",
   "language": "python",
   "name": "python3"
  },
  "language_info": {
   "codemirror_mode": {
    "name": "ipython",
    "version": 3
   },
   "file_extension": ".py",
   "mimetype": "text/x-python",
   "name": "python",
   "nbconvert_exporter": "python",
   "pygments_lexer": "ipython3",
   "version": "3.6.8"
  }
 },
 "nbformat": 4,
 "nbformat_minor": 2
}
